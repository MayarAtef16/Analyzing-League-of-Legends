{
  "cells": [
    {
      "cell_type": "markdown",
      "metadata": {
        "id": "view-in-github",
        "colab_type": "text"
      },
      "source": [
        "<a href=\"https://colab.research.google.com/github/MayarAtef16/Analyzing-League-of-Legends/blob/main/LOL_%7C_MiniProject_2.ipynb\" target=\"_parent\"><img src=\"https://colab.research.google.com/assets/colab-badge.svg\" alt=\"Open In Colab\"/></a>"
      ]
    },
    {
      "cell_type": "markdown",
      "metadata": {
        "id": "nD9Jjn4_jCzU"
      },
      "source": [
        "- Helpful Resources"
      ]
    },
    {
      "cell_type": "markdown",
      "metadata": {
        "id": "Tyo4y7y9jD6e"
      },
      "source": [
        "https://github.com/JackWillz/The-Riot-API-Introduction-by-iTero-Gaming/blob/main/The%20Riot%20API%20Introductory%20Guide%20by%20iTero%20Gaming.ipynb"
      ]
    },
    {
      "cell_type": "markdown",
      "metadata": {
        "id": "_yvL082wjHyG"
      },
      "source": [
        "https://www.youtube.com/watch?v=jkzq9j5yeT8&list=PL3vL1pnMCbUERqllcwhcvEJbKum-M9zT5&index=1"
      ]
    },
    {
      "cell_type": "markdown",
      "metadata": {
        "id": "ZFT1UJfWqkFE"
      },
      "source": [
        "# **Requirements**:"
      ]
    },
    {
      "cell_type": "markdown",
      "metadata": {
        "id": "3ll1LFmA729c"
      },
      "source": [
        "### API_key"
      ]
    },
    {
      "cell_type": "code",
      "execution_count": null,
      "metadata": {
        "colab": {
          "base_uri": "https://localhost:8080/",
          "height": 35
        },
        "id": "ERmxB3AHaqDc",
        "outputId": "3080a787-e841-4360-b80f-cf4a17fde8a6"
      },
      "outputs": [
        {
          "data": {
            "application/vnd.google.colaboratory.intrinsic+json": {
              "type": "string"
            },
            "text/plain": [
              "'RGAPI-50c27fc3-6076-4905-bbe8-bae4500df912'"
            ]
          },
          "execution_count": 7,
          "metadata": {},
          "output_type": "execute_result"
        }
      ],
      "source": [
        "api_key='RGAPI-50c27fc3-6076-4905-bbe8-bae4500df912'\n",
        "api_key"
      ]
    },
    {
      "cell_type": "markdown",
      "metadata": {
        "id": "Cz5mmRHV7-Ek"
      },
      "source": [
        "### API_URL"
      ]
    },
    {
      "cell_type": "code",
      "execution_count": null,
      "metadata": {
        "colab": {
          "base_uri": "https://localhost:8080/"
        },
        "id": "kxtt-PlEu6JH",
        "outputId": "cd580095-dab0-41fe-ded0-907849f14639"
      },
      "outputs": [
        {
          "data": {
            "text/plain": [
              "<Response [401]>"
            ]
          },
          "execution_count": 8,
          "metadata": {},
          "output_type": "execute_result"
        }
      ],
      "source": [
        "import requests\n",
        "#get puuid from the following url from summonerV4 >> Player\n",
        "api_url='https://euw1.api.riotgames.com/lol/summoner/v4/summoners/by-name/yara'\n",
        "requests.get(api_url)"
      ]
    },
    {
      "cell_type": "code",
      "execution_count": null,
      "metadata": {
        "colab": {
          "base_uri": "https://localhost:8080/"
        },
        "id": "aXIST0eu2jhv",
        "outputId": "12a464a3-d9f4-447a-e9ef-d4c4b802a49e"
      },
      "outputs": [
        {
          "name": "stdout",
          "output_type": "stream",
          "text": [
            "{'accountId': '2IbulE6pOj9Hc6RbVtrgdoOmtWw-r3vqLlTOFKtfsag34qM',\n",
            " 'id': 'qD3YMpXq9EEsw351u-_KHygK4sAv53rRnfvVAeJpbU-fpyUb',\n",
            " 'name': 'Mayar',\n",
            " 'profileIconId': 5415,\n",
            " 'puuid': 'nS7RHn40nGTYoTFDU1un_RYTp2R1VQlQYuBvKWVKPJ4OcE2bHuxOXI3K_yRanjWlDdyxVkQ6VR_Q8Q',\n",
            " 'revisionDate': 1667388984000,\n",
            " 'summonerLevel': 365}\n",
            "nS7RHn40nGTYoTFDU1un_RYTp2R1VQlQYuBvKWVKPJ4OcE2bHuxOXI3K_yRanjWlDdyxVkQ6VR_Q8Q\n"
          ]
        }
      ],
      "source": [
        "from pprint import pprint\n",
        "import requests\n",
        "api_key = 'RGAPI-c0ea1f12-c3d3-455d-90a8-69cc40b9b11e'\n",
        "api_url='https://euw1.api.riotgames.com/lol/summoner/v4/summoners/by-name/mayar'\n",
        "api_url = api_url + '?api_key=' + api_key\n",
        "player_info = requests.get(api_url).json()\n",
        "pprint(player_info)\n",
        "puuid = player_info['puuid']\n",
        "print(puuid)"
      ]
    },
    {
      "cell_type": "code",
      "execution_count": null,
      "metadata": {
        "colab": {
          "base_uri": "https://localhost:8080/",
          "height": 53
        },
        "id": "6BbRQrqTwADt",
        "outputId": "7ea88a4b-a1e7-4b9a-fe58-f4a04bfc6d88"
      },
      "outputs": [
        {
          "data": {
            "application/vnd.google.colaboratory.intrinsic+json": {
              "type": "string"
            },
            "text/plain": [
              "'https://euw1.api.riotgames.com/lol/summoner/v4/summoners/by-name/mayar?api_key=RGAPI-c0ea1f12-c3d3-455d-90a8-69cc40b9b11e?api_key=RGAPI-c0ea1f12-c3d3-455d-90a8-69cc40b9b11e'"
            ]
          },
          "execution_count": 4,
          "metadata": {},
          "output_type": "execute_result"
        }
      ],
      "source": [
        "api_url = api_url + '?api_key=' + api_key\n",
        "api_url"
      ]
    },
    {
      "cell_type": "code",
      "execution_count": null,
      "metadata": {
        "colab": {
          "background_save": true,
          "base_uri": "https://localhost:8080/"
        },
        "id": "s7t3wBm5wL6o",
        "outputId": "a32e0bab-982c-42d3-8be1-ec78c7d00077"
      },
      "outputs": [
        {
          "data": {
            "text/plain": [
              "{'status': {'message': 'Forbidden', 'status_code': 403}}"
            ]
          },
          "execution_count": 5,
          "metadata": {},
          "output_type": "execute_result"
        }
      ],
      "source": [
        "player_info = requests.get(api_url).json()\n",
        "player_info"
      ]
    },
    {
      "cell_type": "code",
      "execution_count": null,
      "metadata": {
        "colab": {
          "background_save": true,
          "base_uri": "https://localhost:8080/",
          "height": 183
        },
        "id": "rKfTqIDZytu9",
        "outputId": "bf7bbcee-de25-4f9b-e3a5-fad40741de19"
      },
      "outputs": [
        {
          "ename": "KeyError",
          "evalue": "ignored",
          "output_type": "error",
          "traceback": [
            "\u001b[0;31m---------------------------------------------------------------------------\u001b[0m",
            "\u001b[0;31mKeyError\u001b[0m                                  Traceback (most recent call last)",
            "\u001b[0;32m<ipython-input-6-592377709d37>\u001b[0m in \u001b[0;36m<module>\u001b[0;34m\u001b[0m\n\u001b[0;32m----> 1\u001b[0;31m \u001b[0mpuuid\u001b[0m \u001b[0;34m=\u001b[0m \u001b[0mplayer_info\u001b[0m\u001b[0;34m[\u001b[0m\u001b[0;34m'puuid'\u001b[0m\u001b[0;34m]\u001b[0m\u001b[0;34m\u001b[0m\u001b[0;34m\u001b[0m\u001b[0m\n\u001b[0m\u001b[1;32m      2\u001b[0m \u001b[0mpuuid\u001b[0m\u001b[0;34m\u001b[0m\u001b[0;34m\u001b[0m\u001b[0m\n",
            "\u001b[0;31mKeyError\u001b[0m: 'puuid'"
          ]
        }
      ],
      "source": [
        "puuid = player_info['puuid']\n",
        "puuid"
      ]
    },
    {
      "cell_type": "code",
      "execution_count": null,
      "metadata": {
        "colab": {
          "background_save": true
        },
        "id": "Wuxm0V0BJ5zH"
      },
      "outputs": [],
      "source": [
        "#matchesV5  >>\n",
        "api_url ='https://na1.api.riotgames.com/lol/match/v4/matchlists/by-account/12345678?startTime=1623456789&endTime=1623456790&queue=400&type=RANKED_SOLO_5x5&start=0&count=100'\n",
        "api_url = api_url + '&api_key=' + api_key\n",
        "match_ids = requests.get(api_url).json()\n",
        "pprint(match_ids)\n",
        "\n",
        "match_ids = []\n",
        "for i in range(10):\n",
        " api_url ='https://europe.api.riotgames.com/lol/match/v5/matches/by-puuid/9xzO1TiqrtwdatmGE35_PXhysC_9SKCPPUYtLXXy0A-LY1LnbC-lexxMsiUS-H6TOHzVjQjmmfdZDg/ids?start='+str(i)+'&count=100'\n",
        " api_url = api_url + '&api_key=' + api_key\n",
        " match_ids.extend(requests.get(api_url).json())\n",
        "print(len(match_ids))\n",
        "pprint(match_ids)"
      ]
    },
    {
      "cell_type": "code",
      "execution_count": null,
      "metadata": {
        "colab": {
          "base_uri": "https://localhost:8080/",
          "height": 52
        },
        "id": "Jst5ZyDyJ_XQ",
        "outputId": "1531d79c-bd94-454c-e817-e6a5818affda"
      },
      "outputs": [
        {
          "data": {
            "application/vnd.google.colaboratory.intrinsic+json": {
              "type": "string"
            },
            "text/plain": [
              "'https://europe.api.riotgames.com/lol/match/v5/matches/by-puuid/9xzO1TiqrtwdatmGE35_PXhysC_9SKCPPUYtLXXy0A-LY1LnbC-lexxMsiUS-H6TOHzVjQjmmfdZDg/ids?queue=400&type=ranked&start=0&count=100&api_key=RGAPI-c0ea1f12-c3d3-455d-90a8-69cc40b9b11e'"
            ]
          },
          "execution_count": 17,
          "metadata": {},
          "output_type": "execute_result"
        }
      ],
      "source": [
        "#  & instead of ?, because there's already a ? in the original\n",
        "api_url = api_url + '&api_key=' + api_key\n",
        "api_url"
      ]
    },
    {
      "cell_type": "code",
      "execution_count": null,
      "metadata": {
        "id": "qjb55bvlUaOM"
      },
      "outputs": [],
      "source": [
        "match_ids = []\n",
        "for i in range(10):\n",
        " api_url ='https://europe.api.riotgames.com/lol/match/v5/matches/by-puuid/9xzO1TiqrtwdatmGE35_PXhysC_9SKCPPUYtLXXy0A-LY1LnbC-lexxMsiUS-H6TOHzVjQjmmfdZDg/ids?qu='+str(i)+'&count=100'\n",
        " api_url = api_url + '&api_key=' + api_key\n",
        " match_ids.append(requests.get(api_url).json())\n",
        "print(len(match_ids))"
      ]
    },
    {
      "cell_type": "code",
      "execution_count": null,
      "metadata": {
        "colab": {
          "base_uri": "https://localhost:8080/"
        },
        "id": "YbebIRxFVM0Z",
        "outputId": "1c4ccf88-3aac-4178-b0a0-51e86d3a8e9e"
      },
      "outputs": [
        {
          "name": "stdout",
          "output_type": "stream",
          "text": [
            "362\n",
            "['EUW1_5104016695' 'EUW1_5104124857' 'EUW1_5109889641' 'EUW1_5116320000'\n",
            " 'EUW1_5116365548' 'EUW1_5116368555' 'EUW1_5116492007' 'EUW1_5118434850'\n",
            " 'EUW1_5120557817' 'EUW1_5120631601' 'EUW1_5121563822' 'EUW1_5123306456'\n",
            " 'EUW1_5123321496' 'EUW1_5123365534' 'EUW1_5123398654' 'EUW1_5123835598'\n",
            " 'EUW1_5123909591' 'EUW1_5123973802' 'EUW1_5123996883' 'EUW1_5124060800'\n",
            " 'EUW1_5124113403' 'EUW1_5124128398' 'EUW1_5124164761' 'EUW1_5124250871'\n",
            " 'EUW1_5124275985' 'EUW1_5124303230' 'EUW1_5126053504' 'EUW1_5126077057'\n",
            " 'EUW1_5126130540' 'EUW1_5131626439' 'EUW1_5504539358' 'EUW1_5507212527'\n",
            " 'EUW1_5507253743' 'EUW1_5507285134' 'EUW1_5612687316' 'EUW1_5613032980'\n",
            " 'EUW1_5614588854' 'EUW1_5614624811' 'EUW1_5614630885' 'EUW1_5667609040'\n",
            " 'EUW1_5667644530' 'EUW1_5716404769' 'EUW1_5716473412' 'EUW1_5716591508'\n",
            " 'EUW1_5717027757' 'EUW1_5717048101' 'EUW1_5717076956' 'EUW1_5717080578'\n",
            " 'EUW1_5717081525' 'EUW1_5717094637' 'EUW1_5717142053' 'EUW1_5717222207'\n",
            " 'EUW1_5717228974' 'EUW1_5717286676' 'EUW1_5717302563' 'EUW1_5717395944'\n",
            " 'EUW1_5717486250' 'EUW1_5717709752' 'EUW1_5717933911' 'EUW1_5718041384'\n",
            " 'EUW1_5718050243' 'EUW1_5718147778' 'EUW1_5718938513' 'EUW1_5718959540'\n",
            " 'EUW1_5719149933' 'EUW1_5719190605' 'EUW1_5719216141' 'EUW1_5719334010'\n",
            " 'EUW1_5719348532' 'EUW1_5719452369' 'EUW1_5719494828' 'EUW1_5719551506'\n",
            " 'EUW1_5719567065' 'EUW1_5720019348' 'EUW1_5720077430' 'EUW1_5720155972'\n",
            " 'EUW1_5720261994' 'EUW1_5720278686' 'EUW1_5720401273' 'EUW1_5720540782'\n",
            " 'EUW1_5720556131' 'EUW1_5720613079' 'EUW1_5720614186' 'EUW1_5720618128'\n",
            " 'EUW1_5720631637' 'EUW1_5721029381' 'EUW1_5721075470' 'EUW1_5721091506'\n",
            " 'EUW1_5721188313' 'EUW1_5721237552' 'EUW1_5721253478' 'EUW1_5722093143'\n",
            " 'EUW1_5722110490' 'EUW1_5722452145' 'EUW1_5722455990' 'EUW1_5722463567'\n",
            " 'EUW1_5722562746' 'EUW1_5722744401' 'EUW1_5722810908' 'EUW1_5722855996'\n",
            " 'EUW1_5723608385' 'EUW1_5723944555' 'EUW1_5724287249' 'EUW1_5724299988'\n",
            " 'EUW1_5724337034' 'EUW1_5724371845' 'EUW1_5725228060' 'EUW1_5725285617'\n",
            " 'EUW1_5725391001' 'EUW1_5726048132' 'EUW1_5726110514' 'EUW1_5726908876'\n",
            " 'EUW1_5727440010' 'EUW1_5727586778' 'EUW1_5728329683' 'EUW1_5728483112'\n",
            " 'EUW1_5728731888' 'EUW1_5728832882' 'EUW1_5730568751' 'EUW1_5730582938'\n",
            " 'EUW1_5730974402' 'EUW1_5730994713' 'EUW1_5731899223' 'EUW1_5731951332'\n",
            " 'EUW1_5732609945' 'EUW1_5732726527' 'EUW1_5757819868' 'EUW1_5762876267'\n",
            " 'EUW1_5862302355' 'EUW1_5871066358' 'EUW1_5872760376' 'EUW1_5892662713'\n",
            " 'EUW1_5898410265' 'EUW1_5898616170' 'EUW1_5901483857' 'EUW1_5905563082'\n",
            " 'EUW1_5906820251' 'EUW1_5935824168' 'EUW1_5975707547' 'EUW1_6027236092'\n",
            " 'EUW1_6027398800' 'EUW1_6027576735']\n"
          ]
        }
      ],
      "source": [
        "import numpy as np\n",
        "\n",
        "# function to get unique values\n",
        "\n",
        "\n",
        "def unique(list1):\n",
        "    x = np.array(list1)\n",
        "    print(np.unique(x))\n",
        "matches = [\n",
        "\n",
        "    \"EUW1_6027576735\",\n",
        "    \"EUW1_6027398800\",\n",
        "    \"EUW1_6027236092\",\n",
        "    \"EUW1_5975707547\",\n",
        "    \"EUW1_5935824168\",\n",
        "    \"EUW1_5906820251\",\n",
        "    \"EUW1_5905563082\",\n",
        "    \"EUW1_5901483857\",\n",
        "    \"EUW1_5898616170\",\n",
        "    \"EUW1_5898410265\",\n",
        "    \"EUW1_5892662713\",\n",
        "    \"EUW1_5872760376\",\n",
        "    \"EUW1_5871066358\",\n",
        "    \"EUW1_5862302355\",\n",
        "    \"EUW1_5762876267\",\n",
        "    \"EUW1_5757819868\",\n",
        "    \"EUW1_5732726527\",\n",
        "    \"EUW1_5732609945\",\n",
        "    \"EUW1_5731899223\",\n",
        "    \"EUW1_5731951332\",\n",
        "    \"EUW1_5730994713\",\n",
        "    \"EUW1_5730974402\",\n",
        "    \"EUW1_5730582938\",\n",
        "    \"EUW1_5730568751\",\n",
        "    \"EUW1_5728832882\",\n",
        "    \"EUW1_5728731888\",\n",
        "    \"EUW1_5728483112\",\n",
        "    \"EUW1_5728329683\",\n",
        "    \"EUW1_5727586778\",\n",
        "    \"EUW1_5727440010\",\n",
        "    \"EUW1_5726908876\",\n",
        "    \"EUW1_5726110514\",\n",
        "    \"EUW1_5726048132\",\n",
        "    \"EUW1_5725391001\",\n",
        "    \"EUW1_5725285617\",\n",
        "    \"EUW1_5725228060\",\n",
        "    \"EUW1_5724371845\",\n",
        "    \"EUW1_5724299988\",\n",
        "    \"EUW1_5724337034\",\n",
        "    \"EUW1_5724287249\",\n",
        "    \"EUW1_5723944555\",\n",
        "    \"EUW1_5723608385\",\n",
        "    \"EUW1_5722855996\",\n",
        "    \"EUW1_5722810908\",\n",
        "    \"EUW1_5722744401\",\n",
        "    \"EUW1_5722562746\",\n",
        "    \"EUW1_5722455990\",\n",
        "    \"EUW1_5722463567\",\n",
        "    \"EUW1_5722452145\",\n",
        "    \"EUW1_5722110490\",\n",
        "    \"EUW1_5722093143\",\n",
        "    \"EUW1_5721237552\",\n",
        "    \"EUW1_5721253478\",\n",
        "    \"EUW1_5721188313\",\n",
        "    \"EUW1_5721029381\",\n",
        "    \"EUW1_5721075470\",\n",
        "    \"EUW1_5721091506\",\n",
        "    \"EUW1_5720618128\",\n",
        "    \"EUW1_5720556131\",\n",
        "    \"EUW1_5720614186\",\n",
        "    \"EUW1_5720613079\",\n",
        "    \"EUW1_5720631637\",\n",
        "    \"EUW1_5720540782\",\n",
        "    \"EUW1_5720401273\",\n",
        "    \"EUW1_5720278686\",\n",
        "    \"EUW1_5720261994\",\n",
        "    \"EUW1_5720155972\",\n",
        "    \"EUW1_5720077430\",\n",
        "    \"EUW1_5720019348\",\n",
        "    \"EUW1_5719567065\",\n",
        "    \"EUW1_5719551506\",\n",
        "    \"EUW1_5719494828\",\n",
        "    \"EUW1_5719452369\",\n",
        "    \"EUW1_5719348532\",\n",
        "    \"EUW1_5719334010\",\n",
        "    \"EUW1_5719149933\",\n",
        "    \"EUW1_5719216141\",\n",
        "    \"EUW1_5719190605\",\n",
        "    \"EUW1_5718959540\",\n",
        "    \"EUW1_5718938513\",\n",
        "    \"EUW1_5718147778\",\n",
        "    \"EUW1_5718050243\",\n",
        "    \"EUW1_5718041384\",\n",
        "    \"EUW1_5717933911\",\n",
        "    \"EUW1_5717709752\",\n",
        "    \"EUW1_5717486250\",\n",
        "    \"EUW1_5717395944\",\n",
        "    \"EUW1_5717286676\",\n",
        "    \"EUW1_5717302563\",\n",
        "    \"EUW1_5717228974\",\n",
        "    \"EUW1_5717222207\",\n",
        "    \"EUW1_5717076956\",\n",
        "    \"EUW1_5717094637\",\n",
        "    \"EUW1_5717142053\",\n",
        "    \"EUW1_5717081525\",\n",
        "    \"EUW1_5717080578\",\n",
        "    \"EUW1_5717048101\",\n",
        "    \"EUW1_5717027757\",\n",
        "    \"EUW1_5716591508\",\n",
        "    \"EUW1_5716473412\",\n",
        "    \"EUW1_6027576735\",\n",
        "    \"EUW1_6027398800\",\n",
        "    \"EUW1_6027236092\",\n",
        "    \"EUW1_5975707547\",\n",
        "    \"EUW1_5935824168\",\n",
        "    \"EUW1_5906820251\",\n",
        "    \"EUW1_5905563082\",\n",
        "    \"EUW1_5901483857\",\n",
        "    \"EUW1_5898616170\",\n",
        "    \"EUW1_5898410265\",\n",
        "    \"EUW1_5892662713\",\n",
        "    \"EUW1_5872760376\",\n",
        "    \"EUW1_5871066358\",\n",
        "    \"EUW1_5862302355\",\n",
        "    \"EUW1_5762876267\",\n",
        "    \"EUW1_5732726527\",\n",
        "    \"EUW1_5732609945\",\n",
        "    \"EUW1_5731899223\",\n",
        "    \"EUW1_5731951332\",\n",
        "    \"EUW1_5730994713\",\n",
        "    \"EUW1_5730974402\",\n",
        "    \"EUW1_5730582938\",\n",
        "    \"EUW1_5730568751\",\n",
        "    \"EUW1_5728832882\",\n",
        "    \"EUW1_5728731888\",\n",
        "    \"EUW1_5728483112\",\n",
        "    \"EUW1_5728329683\",\n",
        "    \"EUW1_5727586778\",\n",
        "    \"EUW1_5727440010\",\n",
        "    \"EUW1_5726908876\",\n",
        "    \"EUW1_5726110514\",\n",
        "    \"EUW1_5726048132\",\n",
        "    \"EUW1_5725391001\",\n",
        "    \"EUW1_5725285617\",\n",
        "    \"EUW1_5725228060\",\n",
        "    \"EUW1_5724371845\",\n",
        "    \"EUW1_5724299988\",\n",
        "    \"EUW1_5724337034\",\n",
        "    \"EUW1_5724287249\",\n",
        "    \"EUW1_5723944555\",\n",
        "    \"EUW1_5723608385\",\n",
        "    \"EUW1_5722855996\",\n",
        "    \"EUW1_5722810908\",\n",
        "    \"EUW1_5722744401\",\n",
        "    \"EUW1_5722562746\",\n",
        "    \"EUW1_5722455990\",\n",
        "    \"EUW1_5722463567\",\n",
        "    \"EUW1_5722452145\",\n",
        "    \"EUW1_5722110490\",\n",
        "    \"EUW1_5722093143\",\n",
        "    \"EUW1_5721237552\",\n",
        "    \"EUW1_5721253478\",\n",
        "    \"EUW1_5721188313\",\n",
        "    \"EUW1_5721029381\",\n",
        "    \"EUW1_5721075470\",\n",
        "    \"EUW1_5721091506\",\n",
        "    \"EUW1_5720618128\",\n",
        "    \"EUW1_5720556131\",\n",
        "    \"EUW1_5720614186\",\n",
        "    \"EUW1_5720613079\",\n",
        "    \"EUW1_5720631637\",\n",
        "    \"EUW1_5720540782\",\n",
        "    \"EUW1_5720401273\",\n",
        "    \"EUW1_5720278686\",\n",
        "    \"EUW1_5720261994\",\n",
        "    \"EUW1_5720155972\",\n",
        "    \"EUW1_5720077430\",\n",
        "    \"EUW1_5720019348\",\n",
        "    \"EUW1_5719567065\",\n",
        "    \"EUW1_5719551506\",\n",
        "    \"EUW1_5719494828\",\n",
        "    \"EUW1_5719452369\",\n",
        "    \"EUW1_5719348532\",\n",
        "    \"EUW1_5719334010\",\n",
        "    \"EUW1_5719149933\",\n",
        "    \"EUW1_5719216141\",\n",
        "    \"EUW1_5719190605\",\n",
        "    \"EUW1_5718959540\",\n",
        "    \"EUW1_5718938513\",\n",
        "    \"EUW1_5718147778\",\n",
        "    \"EUW1_5718050243\",\n",
        "    \"EUW1_5718041384\",\n",
        "    \"EUW1_5717933911\",\n",
        "    \"EUW1_5717709752\",\n",
        "    \"EUW1_5717486250\",\n",
        "    \"EUW1_5717395944\",\n",
        "    \"EUW1_5717286676\",\n",
        "    \"EUW1_5717302563\",\n",
        "    \"EUW1_5717228974\",\n",
        "    \"EUW1_5717222207\",\n",
        "    \"EUW1_5717076956\",\n",
        "    \"EUW1_5717094637\",\n",
        "    \"EUW1_5717142053\",\n",
        "    \"EUW1_5717081525\",\n",
        "    \"EUW1_5717080578\",\n",
        "    \"EUW1_5717048101\",\n",
        "    \"EUW1_5717027757\",\n",
        "    \"EUW1_5716591508\",\n",
        "    \"EUW1_5716473412\",\n",
        "    \"EUW1_5716404769\",\n",
        "    \"EUW1_5757819868\",\n",
        "    \"EUW1_5667644530\",\n",
        "    \"EUW1_5667609040\",\n",
        "    \"EUW1_5614588854\",\n",
        "    \"EUW1_5614624811\",\n",
        "    \"EUW1_5614630885\",\n",
        "    \"EUW1_5613032980\",\n",
        "    \"EUW1_5612687316\",\n",
        "    \"EUW1_5507285134\",\n",
        "    \"EUW1_5507253743\",\n",
        "    \"EUW1_5507212527\",\n",
        "    \"EUW1_5504539358\",\n",
        "    \"EUW1_5131626439\",\n",
        "    \"EUW1_5126130540\",\n",
        "    \"EUW1_5126077057\",\n",
        "    \"EUW1_5126053504\",\n",
        "    \"EUW1_5124303230\",\n",
        "    \"EUW1_5124275985\",\n",
        "    \"EUW1_5124250871\",\n",
        "    \"EUW1_5124164761\",\n",
        "    \"EUW1_5124128398\",\n",
        "    \"EUW1_5124113403\",\n",
        "    \"EUW1_5124060800\",\n",
        "    \"EUW1_5123996883\",\n",
        "    \"EUW1_5123973802\",\n",
        "    \"EUW1_5123909591\",\n",
        "    \"EUW1_5123835598\",\n",
        "    \"EUW1_5123398654\",\n",
        "    \"EUW1_5123365534\",\n",
        "    \"EUW1_5123321496\",\n",
        "    \"EUW1_5123306456\",\n",
        "    \"EUW1_5121563822\",\n",
        "    \"EUW1_5120631601\",\n",
        "    \"EUW1_5120557817\",\n",
        "    \"EUW1_5118434850\",\n",
        "    \"EUW1_5116492007\",\n",
        "    \"EUW1_5116368555\",\n",
        "    \"EUW1_5116365548\",\n",
        "    \"EUW1_5116320000\",\n",
        "    \"EUW1_5109889641\",\n",
        "    \"EUW1_5104124857\",\n",
        "    \"EUW1_5104016695\",\n",
        "    \"EUW1_6027576735\",\n",
        "    \"EUW1_6027398800\",\n",
        "    \"EUW1_6027236092\",\n",
        "    \"EUW1_5975707547\",\n",
        "    \"EUW1_5935824168\",\n",
        "    \"EUW1_5906820251\",\n",
        "    \"EUW1_5905563082\",\n",
        "    \"EUW1_5901483857\",\n",
        "    \"EUW1_5898616170\",\n",
        "    \"EUW1_5898410265\",\n",
        "    \"EUW1_5892662713\",\n",
        "    \"EUW1_5872760376\",\n",
        "    \"EUW1_5871066358\",\n",
        "    \"EUW1_5862302355\",\n",
        "    \"EUW1_5762876267\",\n",
        "    \"EUW1_5732726527\",\n",
        "    \"EUW1_5732609945\",\n",
        "    \"EUW1_5731899223\",\n",
        "    \"EUW1_5731951332\",\n",
        "    \"EUW1_5730994713\",\n",
        "    \"EUW1_6027576735\",\n",
        "    \"EUW1_6027398800\",\n",
        "    \"EUW1_6027236092\",\n",
        "    \"EUW1_5975707547\",\n",
        "    \"EUW1_5935824168\",\n",
        "    \"EUW1_5906820251\",\n",
        "    \"EUW1_5905563082\",\n",
        "    \"EUW1_5901483857\",\n",
        "    \"EUW1_5898616170\",\n",
        "    \"EUW1_5898410265\",\n",
        "    \"EUW1_5892662713\",\n",
        "    \"EUW1_5872760376\",\n",
        "    \"EUW1_5871066358\",\n",
        "    \"EUW1_5862302355\",\n",
        "    \"EUW1_5762876267\",\n",
        "    \"EUW1_5732726527\",\n",
        "    \"EUW1_5732609945\",\n",
        "    \"EUW1_5731899223\",\n",
        "    \"EUW1_5731951332\",\n",
        "    \"EUW1_5730994713\",\n",
        "    \"EUW1_5730974402\",\n",
        "    \"EUW1_5730582938\",\n",
        "    \"EUW1_5730568751\",\n",
        "    \"EUW1_5728832882\",\n",
        "    \"EUW1_5728731888\",\n",
        "    \"EUW1_5728483112\",\n",
        "    \"EUW1_5728329683\",\n",
        "    \"EUW1_5727586778\",\n",
        "    \"EUW1_5727440010\",\n",
        "    \"EUW1_5726908876\",\n",
        "    \"EUW1_5726110514\",\n",
        "    \"EUW1_5726048132\",\n",
        "    \"EUW1_5725391001\",\n",
        "    \"EUW1_5725285617\",\n",
        "    \"EUW1_5725228060\",\n",
        "    \"EUW1_5724371845\",\n",
        "    \"EUW1_5724299988\",\n",
        "    \"EUW1_5724337034\",\n",
        "    \"EUW1_5724287249\",\n",
        "    \"EUW1_5723944555\",\n",
        "    \"EUW1_5723608385\",\n",
        "    \"EUW1_5722855996\",\n",
        "    \"EUW1_5722810908\",\n",
        "    \"EUW1_5722744401\",\n",
        "    \"EUW1_5722562746\",\n",
        "    \"EUW1_5722455990\",\n",
        "    \"EUW1_5722463567\",\n",
        "    \"EUW1_5722452145\",\n",
        "    \"EUW1_5722110490\",\n",
        "    \"EUW1_5722093143\",\n",
        "    \"EUW1_5721237552\",\n",
        "    \"EUW1_5721253478\",\n",
        "    \"EUW1_5721188313\",\n",
        "    \"EUW1_5721029381\",\n",
        "    \"EUW1_5721075470\",\n",
        "    \"EUW1_5721091506\",\n",
        "    \"EUW1_5720618128\",\n",
        "    \"EUW1_5720556131\",\n",
        "    \"EUW1_5720614186\",\n",
        "    \"EUW1_5720613079\",\n",
        "    \"EUW1_5720631637\",\n",
        "    \"EUW1_5720540782\",\n",
        "    \"EUW1_5720401273\",\n",
        "    \"EUW1_5720278686\",\n",
        "    \"EUW1_5720261994\",\n",
        "    \"EUW1_5720155972\",\n",
        "    \"EUW1_5720077430\",\n",
        "    \"EUW1_5720019348\",\n",
        "    \"EUW1_5719567065\",\n",
        "    \"EUW1_5719551506\",\n",
        "    \"EUW1_5719494828\",\n",
        "    \"EUW1_5719452369\",\n",
        "    \"EUW1_5719348532\",\n",
        "    \"EUW1_5719334010\",\n",
        "    \"EUW1_5719149933\",\n",
        "    \"EUW1_5719216141\",\n",
        "    \"EUW1_5719190605\",\n",
        "    \"EUW1_5718959540\",\n",
        "    \"EUW1_5718938513\",\n",
        "    \"EUW1_5718147778\",\n",
        "    \"EUW1_5718050243\",\n",
        "    \"EUW1_5718041384\",\n",
        "    \"EUW1_5717933911\",\n",
        "    \"EUW1_5717709752\",\n",
        "    \"EUW1_5717486250\",\n",
        "    \"EUW1_5717395944\",\n",
        "    \"EUW1_5717286676\",\n",
        "    \"EUW1_5717302563\",\n",
        "    \"EUW1_5717228974\",\n",
        "    \"EUW1_5717222207\",\n",
        "    \"EUW1_5717076956\",\n",
        "    \"EUW1_5717094637\",\n",
        "    \"EUW1_5717142053\",\n",
        "    \"EUW1_5717081525\",\n",
        "    \"EUW1_5717080578\",\n",
        "    \"EUW1_5717048101\",\n",
        "    \"EUW1_5717027757\",\n",
        "    \"EUW1_5716591508\",\n",
        "    \"EUW1_5716473412\",\n",
        "    \"EUW1_5716404769\"]\n",
        "print(len(matches))\n",
        "unique(matches)"
      ]
    },
    {
      "cell_type": "code",
      "execution_count": null,
      "metadata": {
        "id": "rYAEEvwO88x8"
      },
      "outputs": [],
      "source": [
        "match_ids = ['EUW1_5104016695' ,'EUW1_5104124857', 'EUW1_5109889641', 'EUW1_5116320000',\n",
        " 'EUW1_5116365548' ,'EUW1_5116368555' ,'EUW1_5116492007', 'EUW1_5118434850',\n",
        " 'EUW1_5120557817', 'EUW1_5120631601' ,'EUW1_5121563822' ,'EUW1_5123306456',\n",
        " 'EUW1_5123321496', 'EUW1_5123365534', 'EUW1_5123398654' ,'EUW1_5123835598',\n",
        " 'EUW1_5123909591', 'EUW1_5123973802', 'EUW1_5123996883', 'EUW1_5124060800',\n",
        " 'EUW1_5124113403', 'EUW1_5124128398', 'EUW1_5124164761', 'EUW1_5124250871',\n",
        " 'EUW1_5124275985' ,'EUW1_5124303230' ,'EUW1_5126053504', 'EUW1_5126077057',\n",
        " 'EUW1_5126130540' ,'EUW1_5131626439', 'EUW1_5504539358' ,'EUW1_5507212527',\n",
        " 'EUW1_5507253743', 'EUW1_5507285134', 'EUW1_5612687316', 'EUW1_5613032980',\n",
        " 'EUW1_5614588854', 'EUW1_5614624811' ,'EUW1_5614630885', 'EUW1_5667609040',\n",
        " 'EUW1_5667644530' ,'EUW1_5716404769', 'EUW1_5716473412' 'EUW1_5716591508',\n",
        " 'EUW1_5717027757', 'EUW1_5717048101', 'EUW1_5717076956', 'EUW1_5717080578',\n",
        " 'EUW1_5717081525', 'EUW1_5717094637' 'EUW1_5717142053' 'EUW1_5717222207'\n",
        " 'EUW1_5717228974' 'EUW1_5717286676' 'EUW1_5717302563' 'EUW1_5717395944'\n",
        " 'EUW1_5717486250' 'EUW1_5717709752' 'EUW1_5717933911' 'EUW1_5718041384'\n",
        " 'EUW1_5718050243' 'EUW1_5718147778' 'EUW1_5718938513' 'EUW1_5718959540'\n",
        " 'EUW1_5719149933' 'EUW1_5719190605' 'EUW1_5719216141' 'EUW1_5719334010'\n",
        " 'EUW1_5719348532' 'EUW1_5719452369' 'EUW1_5719494828' 'EUW1_5719551506'\n",
        " 'EUW1_5719567065' 'EUW1_5720019348' 'EUW1_5720077430' 'EUW1_5720155972'\n",
        " 'EUW1_5720261994' 'EUW1_5720278686' 'EUW1_5720401273' 'EUW1_5720540782'\n",
        " 'EUW1_5720556131' 'EUW1_5720613079' 'EUW1_5720614186' 'EUW1_5720618128'\n",
        " 'EUW1_5720631637' 'EUW1_5721029381' 'EUW1_5721075470' 'EUW1_5721091506'\n",
        " 'EUW1_5721188313' 'EUW1_5721237552' 'EUW1_5721253478' 'EUW1_5722093143'\n",
        " 'EUW1_5722110490' 'EUW1_5722452145' 'EUW1_5722455990' 'EUW1_5722463567'\n",
        " 'EUW1_5722562746' 'EUW1_5722744401' 'EUW1_5722810908' 'EUW1_5722855996'\n",
        " 'EUW1_5723608385' 'EUW1_5723944555' 'EUW1_5724287249' 'EUW1_5724299988'\n",
        " 'EUW1_5724337034' 'EUW1_5724371845' 'EUW1_5725228060' 'EUW1_5725285617'\n",
        " 'EUW1_5725391001' 'EUW1_5726048132' 'EUW1_5726110514' 'EUW1_5726908876'\n",
        " 'EUW1_5727440010' 'EUW1_5727586778' 'EUW1_5728329683' 'EUW1_5728483112'\n",
        " 'EUW1_5728731888' 'EUW1_5728832882' 'EUW1_5730568751' 'EUW1_5730582938'\n",
        " 'EUW1_5730974402' 'EUW1_5730994713' 'EUW1_5731899223' 'EUW1_5731951332'\n",
        " 'EUW1_5732609945' 'EUW1_5732726527' 'EUW1_5757819868' 'EUW1_5762876267'\n",
        " 'EUW1_5862302355' 'EUW1_5871066358' 'EUW1_5872760376' 'EUW1_5892662713'\n",
        " 'EUW1_5898410265' 'EUW1_5898616170' 'EUW1_5901483857' 'EUW1_5905563082'\n",
        " 'EUW1_5906820251' 'EUW1_5935824168' 'EUW1_5975707547' 'EUW1_6027236092'\n",
        " 'EUW1_6027398800' 'EUW1_6027576735']"
      ]
    },
    {
      "cell_type": "code",
      "execution_count": null,
      "metadata": {
        "id": "nyP1dneOJ_LX"
      },
      "outputs": [],
      "source": [
        "resp = requests.get(api_url)\n",
        "match_ids = resp.json()\n",
        "print(match_ids)"
      ]
    },
    {
      "cell_type": "code",
      "execution_count": null,
      "metadata": {
        "id": "b5LxbQg4J-9p"
      },
      "outputs": [],
      "source": [
        "recent_match = match_ids[0]\n",
        "recent_match"
      ]
    },
    {
      "cell_type": "code",
      "execution_count": null,
      "metadata": {
        "id": "NHcn1-2EADq6"
      },
      "outputs": [],
      "source": [
        "api_url = \"https://europe.api.riotgames.com/lol/match/v5/matches/\" + match_ids[0]+ '?api_key=' + api_key\n",
        "api_url"
      ]
    },
    {
      "cell_type": "code",
      "execution_count": null,
      "metadata": {
        "id": "Si2BqEzVAI9s"
      },
      "outputs": [],
      "source": [
        "requests.get(api_url).json()"
      ]
    },
    {
      "cell_type": "code",
      "execution_count": null,
      "metadata": {
        "id": "xEpoV__D9JNx"
      },
      "outputs": [],
      "source": [
        "len(match_ids)"
      ]
    },
    {
      "cell_type": "code",
      "execution_count": null,
      "metadata": {
        "id": "DunJ1fNs9eqW"
      },
      "outputs": [],
      "source": [
        "match_data = {}\n",
        "for match_id in match_ids:\n",
        "  api_url = \"https://europe.api.riotgames.com/lol/match/v5/matches/\" + match_id + '?api_key=' + api_key\n",
        "  match_data[match_id] = requests.get(api_url).json()\n",
        "  print(match_id)\n",
        "  print(len(match_data))"
      ]
    },
    {
      "cell_type": "code",
      "execution_count": null,
      "metadata": {
        "id": "oMLER9G7R0Rj"
      },
      "outputs": [],
      "source": [
        "match_data = {}\n",
        "for match_id in match_ids:\n",
        "  api_url = \"https://americas.api.riotgames.com/lol/match/v5/matches/by-puuid/%279xzO1TiqrtwdatmGE35_PXhysC_9SKCPPUYtLXXy0A-LY1LnbC-lexxMsiUS-H6TOHzVjQjmmfdZDg%27/ids?start=0&count=100/\" + match_id + '?api_key=' + api_key\n",
        "  match_data[match_id] = requests.get(api_url).json()\n",
        "  print(match_id )\n",
        "  print(len(match_data))"
      ]
    },
    {
      "cell_type": "code",
      "execution_count": null,
      "metadata": {
        "id": "j0g3ulH2Nk4o"
      },
      "outputs": [],
      "source": [
        "api_url = \"https://europe.api.riotgames.com/lol/match/v5/matches/EUW1_6018416193\""
      ]
    },
    {
      "cell_type": "code",
      "execution_count": null,
      "metadata": {
        "id": "abSUxUjANsjB"
      },
      "outputs": [],
      "source": [
        "# This one doesn't have any arguments (see, there's no \"?\" above) so we'll add it with the api key\n",
        "api_url = api_url + '?api_key=' + api_key"
      ]
    },
    {
      "cell_type": "code",
      "execution_count": null,
      "metadata": {
        "id": "OAxdEVq8Nv73"
      },
      "outputs": [],
      "source": [
        "resp = requests.get(api_url)\n",
        "match_data = resp.json()\n",
        "\n",
        "match_data"
      ]
    },
    {
      "cell_type": "code",
      "execution_count": null,
      "metadata": {
        "id": "tfj1f_6TN4JR"
      },
      "outputs": [],
      "source": [
        "# the two headline sections of the data\n",
        "print(match_data.keys())\n",
        "print(match_data['metadata'].keys())\n",
        "print(match_data['info'].keys())"
      ]
    },
    {
      "cell_type": "code",
      "execution_count": null,
      "metadata": {
        "id": "FsJk3xzFiGjf"
      },
      "outputs": [],
      "source": [
        "for i in match_data['info'].keys():\n",
        "  print(i,match_data['info'][i])"
      ]
    },
    {
      "cell_type": "code",
      "execution_count": null,
      "metadata": {
        "id": "NmLAE61BN4E3"
      },
      "outputs": [],
      "source": [
        "# \"metadata\" contains the puuid for every player in the game\n",
        "from pprint import pprint\n",
        "pprint(len(match_data['info']['participants']))\n",
        "for i in len(match_data['info']['participants'])\n",
        "pprint(match_data['info']['participants'][2]['championName'])\n",
        "\n",
        "# NOTE: The order in which these puuid's appear in this the \"participants\" list\n",
        "# is the same order they will appear for data elsewhere in this dictionary (useful for later)"
      ]
    },
    {
      "cell_type": "code",
      "execution_count": null,
      "metadata": {
        "id": "F_r1UmdKN4AV"
      },
      "outputs": [],
      "source": [
        "# \"info\" contains lots of data about the game, like when it was created, how long it lasted etc...\n",
        "print(len(match_data['info']['teams']))\n",
        "print(match_data['info']['teams'][0])\n",
        "print(match_data['info']['teams'][1])\n",
        "print(match_data['info']['teams'][0].keys())\n",
        "print('____________________________________________')\n",
        "for i in match_data['info']['teams'][0].keys():\n",
        "  print(i,match_data['info']['teams'][0][i])\n",
        "print('__________________________________________')\n",
        "\n",
        "print('bans[0]:',match_data['info']['teams'][0]['bans'])\n",
        "\n",
        "print('objectives:',match_data['info']['teams'][0]['objectives'])\n",
        "for i in match_data['info']['teams'][0]['objectives'].keys():\n",
        "  print(i, match_data['info']['teams'][0]['objectives'][i])\n",
        "\n",
        "print('objectives:',match_data['info']['teams'][0]['objectives'].keys())\n"
      ]
    },
    {
      "cell_type": "code",
      "execution_count": null,
      "metadata": {
        "id": "idCa5GMzMQRS"
      },
      "outputs": [],
      "source": [
        "print(match_data['ino'])\n"
      ]
    },
    {
      "cell_type": "code",
      "execution_count": null,
      "metadata": {
        "id": "HRzU3bdgN3s6"
      },
      "outputs": [],
      "source": [
        "# For instance, this is how long the game lasted:\n",
        "match_data['info']['gameDuration'] / 60 # / 60 to get it into minutes"
      ]
    },
    {
      "cell_type": "code",
      "execution_count": null,
      "metadata": {
        "id": "54bnAzDlOGxr"
      },
      "outputs": [],
      "source": [
        "# Within info, participants contains a list of length 10, each with further information about the player\n",
        "len(match_data['info']['participants'])"
      ]
    },
    {
      "cell_type": "code",
      "execution_count": null,
      "metadata": {
        "id": "-awDRE8SOKFs"
      },
      "outputs": [],
      "source": [
        "# To save time, we'll assign a variable for first player\n",
        "player_data = match_data['info']['participants'][0]\n",
        "player_data"
      ]
    },
    {
      "cell_type": "code",
      "execution_count": null,
      "metadata": {
        "id": "6suZPtgEOOGE"
      },
      "outputs": [],
      "source": [
        "# Then, we can find out information about them in the game, like which Champion they're playing...\n",
        "player_data['championName']"
      ]
    },
    {
      "cell_type": "code",
      "execution_count": null,
      "metadata": {
        "id": "0EqCDnG6OTaI"
      },
      "outputs": [],
      "source": [
        "# Maybe their KDA?\n",
        "k = player_data['kills']\n",
        "d = player_data['deaths']\n",
        "a = player_data['assists']\n",
        "print(\"Kills:\", k)\n",
        "print(\"Deaths:\", d)\n",
        "print(\"Assists:\", a)\n",
        "print(\"KDA:\", (k + a) / d)"
      ]
    },
    {
      "cell_type": "code",
      "execution_count": null,
      "metadata": {
        "id": "RgWw7eAYOWfX"
      },
      "outputs": [],
      "source": [
        "# or their role?\n",
        "player_data['teamPosition']"
      ]
    },
    {
      "cell_type": "code",
      "execution_count": null,
      "metadata": {
        "id": "CdJSlXXyOcNB"
      },
      "outputs": [],
      "source": [
        "# A list of all the participants puuids\n",
        "participants = match_data['metadata']['participants']\n",
        "# Now, find where in the data our players puuid is found\n",
        "player_index = participants.index(puuid)\n",
        "player_index"
      ]
    },
    {
      "cell_type": "code",
      "execution_count": null,
      "metadata": {
        "id": "qhvc3th-Oh6A"
      },
      "outputs": [],
      "source": [
        "# This should match the puuid we used to search for the match IDs, go back up and check\n",
        "participants[player_index]"
      ]
    },
    {
      "cell_type": "code",
      "execution_count": null,
      "metadata": {
        "id": "UiTiuHsoOhrh"
      },
      "outputs": [],
      "source": [
        "# Hopefully the name below is what you inputted into the first function!\n",
        "match_data['info']['participants'][player_index]['summonerName']"
      ]
    },
    {
      "cell_type": "code",
      "execution_count": null,
      "metadata": {
        "id": "tY16d4WLOheC"
      },
      "outputs": [],
      "source": [
        "player_data = match_data['info']['participants'][player_index]\n",
        "\n",
        "champ = player_data['championName']\n",
        "k = player_data['kills']\n",
        "d = player_data['deaths']\n",
        "a = player_data['assists']\n",
        "win = player_data['win']\n",
        "\n",
        "print(\"Champ:\", champ, \"Kills:\", k, \"Deaths:\", d, \"Assists:\", a, \"Win:\", win)"
      ]
    },
    {
      "cell_type": "code",
      "execution_count": null,
      "metadata": {
        "id": "RznzbLUxOhNl"
      },
      "outputs": [],
      "source": [
        "# The first function simply gets the puuid, given a summoner name and region\n",
        "# This is exactly the same as our first example, except we're building the API URL from scratch\n",
        "def get_puuid(summoner_name, region, api_key):\n",
        "    api_url = (\n",
        "        \"https://\" +\n",
        "        region +\n",
        "        \".api.riotgames.com/lol/summoner/v4/summoners/by-name/\" +\n",
        "        summoner_name +\n",
        "        \"?api_key=\" +\n",
        "        api_key\n",
        "    )\n",
        "\n",
        "    print(api_url)\n",
        "\n",
        "    resp = requests.get(api_url)\n",
        "    player_info = resp.json()\n",
        "    puuid = player_info['puuid']\n",
        "    return puuid"
      ]
    },
    {
      "cell_type": "code",
      "execution_count": null,
      "metadata": {
        "id": "tuc5M4h5PDIn"
      },
      "outputs": [],
      "source": [
        "summoner_name = 'Jack J'\n",
        "region = 'euw1'\n",
        "\n",
        "puuid = get_puuid(summoner_name, region, api_key)\n",
        "puuid"
      ]
    },
    {
      "cell_type": "code",
      "execution_count": null,
      "metadata": {
        "id": "o1eN5CmFPC6b"
      },
      "outputs": [],
      "source": [
        "# The function to get a list of all the match IDs (2nd example above) given a players puuid and mass region\n",
        "def get_match_ids(puuid, mass_region, api_key):\n",
        "    api_url = (\n",
        "        \"https://\" +\n",
        "        mass_region +\n",
        "        \".api.riotgames.com/lol/match/v5/matches/by-puuid/\" +\n",
        "        puuid +\n",
        "        \"/ids?start=0&count=20\" +\n",
        "        \"&api_key=\" +\n",
        "        api_key\n",
        "    )\n",
        "\n",
        "    print(api_url)\n",
        "\n",
        "    resp = requests.get(api_url)\n",
        "    match_ids = resp.json()\n",
        "    return match_ids"
      ]
    },
    {
      "cell_type": "code",
      "execution_count": null,
      "metadata": {
        "id": "nZFGFbrzPCtZ"
      },
      "outputs": [],
      "source": [
        "# NOTE: region and mass_region are different\n",
        "# for instance, NA1 is the North American region\n",
        "# which is part of the AMERICAS mass region\n",
        "# EUW1 is Europe West region, part of the EUROPE mass region\n",
        "mass_region = 'EUROPE'\n",
        "\n",
        "match_ids = get_match_ids(puuid, mass_region, api_key)\n",
        "match_ids"
      ]
    },
    {
      "cell_type": "code",
      "execution_count": null,
      "metadata": {
        "id": "1Z-uIfmWPRUT"
      },
      "outputs": [],
      "source": [
        "# From a given match ID and mass region, get the data about the game\n",
        "def get_match_data(match_id, mass_region, api_key):\n",
        "    api_url = (\n",
        "        \"https://\" +\n",
        "        mass_region +\n",
        "        \".api.riotgames.com/lol/match/v5/matches/\" +\n",
        "        match_id +\n",
        "        \"?api_key=\" +\n",
        "        api_key\n",
        "    )\n",
        "\n",
        "    resp = requests.get(api_url)\n",
        "    match_data = resp.json()\n",
        "    return match_data"
      ]
    },
    {
      "cell_type": "code",
      "execution_count": null,
      "metadata": {
        "id": "AjyERahkPRKV"
      },
      "outputs": [],
      "source": [
        "match_id = match_ids[0]\n",
        "match_data = get_match_data(match_id, mass_region, api_key)\n",
        "match_data"
      ]
    },
    {
      "cell_type": "code",
      "execution_count": null,
      "metadata": {
        "id": "dn5lExAbPQ4I"
      },
      "outputs": [],
      "source": [
        "# Given the match data and a players puuid, return the data about just them\n",
        "def find_player_data(match_data, puuid):\n",
        "    participants = match_data['metadata']['participants']\n",
        "    player_index = participants.index(puuid)\n",
        "    player_data = match_data['info']['participants'][player_index]\n",
        "    return player_data"
      ]
    },
    {
      "cell_type": "code",
      "execution_count": null,
      "metadata": {
        "id": "opBxx_BNPZW2"
      },
      "outputs": [],
      "source": [
        "find_player_data(match_data, puuid)"
      ]
    },
    {
      "cell_type": "code",
      "execution_count": null,
      "metadata": {
        "id": "wVAtm7zgPm1g"
      },
      "outputs": [],
      "source": [
        "# We initialise an empty dictionary to store data for each game\n",
        "data = {\n",
        "    'champion': [],\n",
        "    'kills': [],\n",
        "    'deaths': [],\n",
        "    'assists': [],\n",
        "    'win': []\n",
        "}\n",
        "\n",
        "for match_id in match_ids:\n",
        "    print(match_id)\n",
        "\n",
        "    # run the two functions to get the player data from the match ID\n",
        "    match_data = get_match_data(match_id, mass_region, api_key)\n",
        "    player_data = find_player_data(match_data, puuid)\n",
        "\n",
        "    # assign the variables we're interested in\n",
        "    champion = player_data['championName']\n",
        "    k = player_data['kills']\n",
        "    d = player_data['deaths']\n",
        "    a = player_data['assists']\n",
        "    win = player_data['win']\n",
        "\n",
        "    # add them to our dataset\n",
        "    data['champion'].append(champion)\n",
        "    data['kills'].append(k)\n",
        "    data['deaths'].append(d)\n",
        "    data['assists'].append(a)\n",
        "    data['win'].append(win)"
      ]
    },
    {
      "cell_type": "code",
      "execution_count": null,
      "metadata": {
        "id": "AdKJnBkWPqgq"
      },
      "outputs": [],
      "source": [
        "# Data on the last 20 games of the account in question\n",
        "data"
      ]
    },
    {
      "cell_type": "code",
      "execution_count": null,
      "metadata": {
        "id": "6bwM52TZPxUG"
      },
      "outputs": [],
      "source": [
        "import pandas as pd # the \"as\" part just renames it to make it quicker to type"
      ]
    },
    {
      "cell_type": "code",
      "execution_count": null,
      "metadata": {
        "id": "McTHHy0kPxHc"
      },
      "outputs": [],
      "source": [
        "df = pd.DataFrame(data)\n",
        "df"
      ]
    },
    {
      "cell_type": "code",
      "execution_count": null,
      "metadata": {
        "id": "T68TS9aIPw5f"
      },
      "outputs": [],
      "source": [
        "def gather_all_data(puuid, match_ids, mass_region, api_key):\n",
        "    # We initialise an empty dictionary to store data for each game\n",
        "    data = {\n",
        "        'champion': [],\n",
        "        'kills': [],\n",
        "        'deaths': [],\n",
        "        'assists': [],\n",
        "        'win': []\n",
        "    }\n",
        "\n",
        "    for match_id in match_ids:\n",
        "        print(match_id)\n",
        "\n",
        "        # run the two functions to get the player data from the match ID\n",
        "        match_data = get_match_data(match_id, mass_region, api_key)\n",
        "        player_data = find_player_data(match_data, puuid)\n",
        "\n",
        "        # assign the variables we're interested in\n",
        "        champion = player_data['championName']\n",
        "        k = player_data['kills']\n",
        "        d = player_data['deaths']\n",
        "        a = player_data['assists']\n",
        "        win = player_data['win']\n",
        "\n",
        "        # add them to our dataset\n",
        "        data['champion'].append(champion)\n",
        "        data['kills'].append(k)\n",
        "        data['deaths'].append(d)\n",
        "        data['assists'].append(a)\n",
        "        data['win'].append(win)\n",
        "\n",
        "    df = pd.DataFrame(data)\n",
        "\n",
        "    return df"
      ]
    },
    {
      "cell_type": "code",
      "execution_count": null,
      "metadata": {
        "id": "N-g51V_xPwlJ"
      },
      "outputs": [],
      "source": [
        "df = gather_all_data(puuid, match_ids, mass_region, api_key)\n",
        "df"
      ]
    },
    {
      "cell_type": "code",
      "execution_count": null,
      "metadata": {
        "id": "Ylpj4qCSUQCg"
      },
      "outputs": [],
      "source": [
        "df['win'] = df['win'].astype(int)\n",
        "df"
      ]
    },
    {
      "cell_type": "code",
      "execution_count": null,
      "metadata": {
        "id": "t0hrzlmLURw3"
      },
      "outputs": [],
      "source": [
        "# Find the averages\n",
        "df.mean(numeric_only=True) # numeric_only stops it trying to average the \"champion\" column"
      ]
    },
    {
      "cell_type": "code",
      "execution_count": null,
      "metadata": {
        "id": "5qU1jUddUWqh"
      },
      "outputs": [],
      "source": [
        "# Get the averages per champion\n",
        "df.groupby('champion').mean()\n"
      ]
    },
    {
      "cell_type": "markdown",
      "metadata": {
        "id": "LFWNTpjDVQCj"
      },
      "source": [
        "# pull data"
      ]
    },
    {
      "cell_type": "code",
      "execution_count": null,
      "metadata": {
        "id": "2klo2WJMVPdK"
      },
      "outputs": [],
      "source": [
        "import requests\n",
        "import json\n",
        "response=response.get(\"RGAPI-50c27fc3-6076-4905-bbe8-bae4500df912\")"
      ]
    },
    {
      "cell_type": "markdown",
      "metadata": {
        "id": "_Ahb9gAOq0CD"
      },
      "source": [
        "## **b. Data Analysis:**"
      ]
    },
    {
      "cell_type": "markdown",
      "metadata": {
        "id": "ABxXEXyqvOBS"
      },
      "source": [
        "- win rate"
      ]
    },
    {
      "cell_type": "code",
      "execution_count": null,
      "metadata": {
        "id": "2u_SAuuDq5B-"
      },
      "outputs": [],
      "source": [
        "# Import the necessary libraries\n",
        "from pyspark.sql import SparkSession\n",
        "\n",
        "# Create a SparkSession\n",
        "spark = SparkSession.builder.getOrCreate()\n",
        "\n",
        "# Load the JSON dataset into a DataFrame\n",
        "df = spark.read.json(\"path/to/dataset.json\")\n",
        "\n",
        "# Calculate the win rate for each champion\n",
        "champion_win_rates = df.groupBy(\"championName\").agg({\"win\": \"mean\"})\n",
        "\n",
        "# Display the top 10 champions by win rate\n",
        "champion_win_rates.sort(champion_win_rates[\"avg(win)\"], ascending=False).show(10)\n"
      ]
    },
    {
      "cell_type": "code",
      "execution_count": null,
      "metadata": {
        "id": "R51-8cAcy7B3"
      },
      "outputs": [],
      "source": []
    },
    {
      "cell_type": "code",
      "execution_count": null,
      "metadata": {
        "colab": {
          "base_uri": "https://localhost:8080/"
        },
        "id": "mFsCvt1RHvFl",
        "outputId": "83e367f6-b30e-4985-e38f-cc937a5d2763"
      },
      "outputs": [
        {
          "data": {
            "text/plain": [
              "[('Lulu', 50.54357512029941),\n",
              " ('Mordekaiser', 49.712753734201456),\n",
              " ('Tryndamere', 49.715909090909086),\n",
              " ('Yasuo', 50.457553146557785),\n",
              " ('Yorick', 54.438860971524285)]"
            ]
          },
          "execution_count": 42,
          "metadata": {},
          "output_type": "execute_result"
        }
      ],
      "source": [
        "# Import the necessary libraries\n",
        "from pyspark.sql import SparkSession\n",
        "\n",
        "# Create a SparkSession\n",
        "spark = SparkSession.builder.getOrCreate()\n",
        "\n",
        "# Load the JSON dataset into a DataFrame\n",
        "df = spark.read.json(\"path/to/dataset.json\")\n",
        "\n",
        "# Calculate the win rate for each champion\n",
        "champion_win_rates = df.groupBy(\"championName\").agg({\"win\": \"mean\"})\n",
        "\n",
        "# Display the top 10 champions by win rate\n",
        "champion_win_rates.sort(champion_win_rates[\"avg(win)\"], ascending=False).show(10)"
      ]
    },
    {
      "cell_type": "markdown",
      "metadata": {
        "id": "QNnDQp1Qq5VP"
      },
      "source": []
    }
  ],
  "metadata": {
    "colab": {
      "provenance": [],
      "include_colab_link": true
    },
    "kernelspec": {
      "display_name": "Python 3",
      "name": "python3"
    },
    "language_info": {
      "name": "python"
    }
  },
  "nbformat": 4,
  "nbformat_minor": 0
}